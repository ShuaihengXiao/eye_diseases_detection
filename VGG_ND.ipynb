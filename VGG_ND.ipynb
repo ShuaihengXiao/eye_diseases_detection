{
 "cells": [
  {
   "cell_type": "code",
   "execution_count": 1,
   "metadata": {
    "colab": {
     "base_uri": "https://localhost:8080/"
    },
    "executionInfo": {
     "elapsed": 44571,
     "status": "ok",
     "timestamp": 1605963773073,
     "user": {
      "displayName": "SHUAIHENG XIAO",
      "photoUrl": "",
      "userId": "00050360622927862885"
     },
     "user_tz": -480
    },
    "id": "FUMYnFHpCukM",
    "outputId": "2261229c-08f0-4baa-afd5-427cedaf5bef"
   },
   "outputs": [
    {
     "name": "stdout",
     "output_type": "stream",
     "text": [
      "E: Package 'python-software-properties' has no installation candidate\n",
      "Selecting previously unselected package google-drive-ocamlfuse.\n",
      "(Reading database ... 144793 files and directories currently installed.)\n",
      "Preparing to unpack .../google-drive-ocamlfuse_0.7.23-0ubuntu1~ubuntu18.04.1_amd64.deb ...\n",
      "Unpacking google-drive-ocamlfuse (0.7.23-0ubuntu1~ubuntu18.04.1) ...\n",
      "Setting up google-drive-ocamlfuse (0.7.23-0ubuntu1~ubuntu18.04.1) ...\n",
      "Processing triggers for man-db (2.8.3-2ubuntu0.1) ...\n",
      "Please, open the following URL in a web browser: https://accounts.google.com/o/oauth2/auth?client_id=32555940559.apps.googleusercontent.com&redirect_uri=urn%3Aietf%3Awg%3Aoauth%3A2.0%3Aoob&scope=https%3A%2F%2Fwww.googleapis.com%2Fauth%2Fdrive&response_type=code&access_type=offline&approval_prompt=force\n",
      "··········\n",
      "Please, open the following URL in a web browser: https://accounts.google.com/o/oauth2/auth?client_id=32555940559.apps.googleusercontent.com&redirect_uri=urn%3Aietf%3Awg%3Aoauth%3A2.0%3Aoob&scope=https%3A%2F%2Fwww.googleapis.com%2Fauth%2Fdrive&response_type=code&access_type=offline&approval_prompt=force\n",
      "Please enter the verification code: Access token retrieved correctly.\n"
     ]
    }
   ],
   "source": [
    "!apt-get install -y -qq software-properties-common python-software-properties module-init-tools\n",
    "!add-apt-repository -y ppa:alessandro-strada/ppa 2>&1 > /dev/null\n",
    "!apt-get update -qq 2>&1 > /dev/null\n",
    "!apt-get -y install -qq google-drive-ocamlfuse fuse\n",
    "from google.colab import auth\n",
    "auth.authenticate_user()\n",
    "from oauth2client.client import GoogleCredentials\n",
    "creds = GoogleCredentials.get_application_default()\n",
    "import getpass\n",
    "!google-drive-ocamlfuse -headless -id={creds.client_id} -secret={creds.client_secret} < /dev/null 2>&1 | grep URL\n",
    "vcode = getpass.getpass()\n",
    "!echo {vcode} | google-drive-ocamlfuse -headless -id={creds.client_id} -secret={creds.client_secret}"
   ]
  },
  {
   "cell_type": "code",
   "execution_count": 2,
   "metadata": {
    "executionInfo": {
     "elapsed": 1304,
     "status": "ok",
     "timestamp": 1605963775312,
     "user": {
      "displayName": "SHUAIHENG XIAO",
      "photoUrl": "",
      "userId": "00050360622927862885"
     },
     "user_tz": -480
    },
    "id": "-7klH3i7CukR"
   },
   "outputs": [],
   "source": [
    "!mkdir -p drive\n",
    "!google-drive-ocamlfuse drive"
   ]
  },
  {
   "cell_type": "code",
   "execution_count": 3,
   "metadata": {
    "colab": {
     "base_uri": "https://localhost:8080/"
    },
    "executionInfo": {
     "elapsed": 20627,
     "status": "ok",
     "timestamp": 1605963794824,
     "user": {
      "displayName": "SHUAIHENG XIAO",
      "photoUrl": "",
      "userId": "00050360622927862885"
     },
     "user_tz": -480
    },
    "id": "fSAWmlxeCukU",
    "outputId": "61dc169c-913b-482a-a4fa-996f01a4ced7"
   },
   "outputs": [
    {
     "name": "stdout",
     "output_type": "stream",
     "text": [
      "Mounted at /content/drive\n"
     ]
    }
   ],
   "source": [
    "from google.colab import drive\n",
    "drive.mount('/content/drive')"
   ]
  },
  {
   "cell_type": "code",
   "execution_count": 4,
   "metadata": {
    "executionInfo": {
     "elapsed": 2809,
     "status": "ok",
     "timestamp": 1605963799453,
     "user": {
      "displayName": "SHUAIHENG XIAO",
      "photoUrl": "",
      "userId": "00050360622927862885"
     },
     "user_tz": -480
    },
    "id": "h6rcBpHxCukW"
   },
   "outputs": [],
   "source": [
    "import h5py\n",
    "import numpy as np\n",
    "from keras.utils import np_utils\n",
    "from tensorflow.keras.applications.vgg19 import VGG19\n",
    "from tensorflow.keras import Sequential\n",
    "from tensorflow.keras.layers import Flatten, Dense\n",
    "import tqdm\n",
    "import os\n",
    "import cv2"
   ]
  },
  {
   "cell_type": "code",
   "execution_count": 5,
   "metadata": {
    "executionInfo": {
     "elapsed": 1342,
     "status": "ok",
     "timestamp": 1605963809949,
     "user": {
      "displayName": "SHUAIHENG XIAO",
      "photoUrl": "",
      "userId": "00050360622927862885"
     },
     "user_tz": -480
    },
    "id": "FZ3_IfXGCukZ"
   },
   "outputs": [],
   "source": [
    "file = h5py.File('/content/drive/My Drive/aug_dataset.hdf5',mode = 'r')"
   ]
  },
  {
   "cell_type": "code",
   "execution_count": 6,
   "metadata": {
    "executionInfo": {
     "elapsed": 24802,
     "status": "ok",
     "timestamp": 1605963911737,
     "user": {
      "displayName": "SHUAIHENG XIAO",
      "photoUrl": "",
      "userId": "00050360622927862885"
     },
     "user_tz": -480
    },
    "id": "zlQnoD3YCukc"
   },
   "outputs": [],
   "source": [
    "N_dataset_x_train = file['N_dataset_x_train'][:700]\n",
    "N_dataset_y_train = file['N_dataset_y_train'][:700]\n",
    "N_dataset_x_val = file['N_dataset_x_val'][:200]\n",
    "N_dataset_y_val = file['N_dataset_y_val'][:200]\n",
    "N_dataset_x_test = file['N_dataset_x_test'][:100]\n",
    "N_dataset_y_test = file['N_dataset_y_test'][:100]"
   ]
  },
  {
   "cell_type": "code",
   "execution_count": 7,
   "metadata": {
    "executionInfo": {
     "elapsed": 38805,
     "status": "ok",
     "timestamp": 1605963926015,
     "user": {
      "displayName": "SHUAIHENG XIAO",
      "photoUrl": "",
      "userId": "00050360622927862885"
     },
     "user_tz": -480
    },
    "id": "7v-i1jN_5zLk"
   },
   "outputs": [],
   "source": [
    "G_dataset_x_train = file['G_dataset_x_train'][:700]\n",
    "G_dataset_y_train = file['G_dataset_y_train'][:700]\n",
    "G_dataset_x_val = file['G_dataset_x_val'][:200]\n",
    "G_dataset_y_val = file['G_dataset_y_val'][:200]\n",
    "G_dataset_x_test = file['G_dataset_x_test'][:100]\n",
    "G_dataset_y_test = file['G_dataset_y_test'][:100]"
   ]
  },
  {
   "cell_type": "code",
   "execution_count": 8,
   "metadata": {
    "executionInfo": {
     "elapsed": 67701,
     "status": "ok",
     "timestamp": 1605963955180,
     "user": {
      "displayName": "SHUAIHENG XIAO",
      "photoUrl": "",
      "userId": "00050360622927862885"
     },
     "user_tz": -480
    },
    "id": "yKUlEFi152TE"
   },
   "outputs": [],
   "source": [
    "C_dataset_x_train = file['C_dataset_x_train'][:700]\n",
    "C_dataset_y_train = file['C_dataset_y_train'][:700]\n",
    "C_dataset_x_val = file['C_dataset_x_val'][:200]\n",
    "C_dataset_y_val = file['C_dataset_y_val'][:200]\n",
    "C_dataset_x_test = file['C_dataset_x_test'][:100]\n",
    "C_dataset_y_test = file['C_dataset_y_test'][:100]"
   ]
  },
  {
   "cell_type": "code",
   "execution_count": 9,
   "metadata": {
    "executionInfo": {
     "elapsed": 92777,
     "status": "ok",
     "timestamp": 1605963981649,
     "user": {
      "displayName": "SHUAIHENG XIAO",
      "photoUrl": "",
      "userId": "00050360622927862885"
     },
     "user_tz": -480
    },
    "id": "ZZb9cVjh59n6"
   },
   "outputs": [],
   "source": [
    "A_dataset_x_train = file['A_dataset_x_train'][:700]\n",
    "A_dataset_y_train = file['A_dataset_y_train'][:700]\n",
    "A_dataset_x_val = file['A_dataset_x_val'][:200]\n",
    "A_dataset_y_val = file['A_dataset_y_val'][:200]\n",
    "A_dataset_x_test = file['A_dataset_x_test'][:100]\n",
    "A_dataset_y_test = file['A_dataset_y_test'][:100]"
   ]
  },
  {
   "cell_type": "code",
   "execution_count": 10,
   "metadata": {
    "executionInfo": {
     "elapsed": 112875,
     "status": "ok",
     "timestamp": 1605964002000,
     "user": {
      "displayName": "SHUAIHENG XIAO",
      "photoUrl": "",
      "userId": "00050360622927862885"
     },
     "user_tz": -480
    },
    "id": "viHWdFFt6AMt"
   },
   "outputs": [],
   "source": [
    "H_dataset_x_train = file['H_dataset_x_train'][:700]\n",
    "H_dataset_y_train = file['H_dataset_y_train'][:700]\n",
    "H_dataset_x_val = file['H_dataset_x_val'][:200]\n",
    "H_dataset_y_val = file['H_dataset_y_val'][:200]\n",
    "H_dataset_x_test = file['H_dataset_x_test'][:100]\n",
    "H_dataset_y_test = file['H_dataset_y_test'][:100]"
   ]
  },
  {
   "cell_type": "code",
   "execution_count": 11,
   "metadata": {
    "executionInfo": {
     "elapsed": 127284,
     "status": "ok",
     "timestamp": 1605964024542,
     "user": {
      "displayName": "SHUAIHENG XIAO",
      "photoUrl": "",
      "userId": "00050360622927862885"
     },
     "user_tz": -480
    },
    "id": "-AWNhW696CKc"
   },
   "outputs": [],
   "source": [
    "M_dataset_x_train = file['M_dataset_x_train'][:700]\n",
    "M_dataset_y_train = file['M_dataset_y_train'][:700]\n",
    "M_dataset_x_val = file['M_dataset_x_val'][:200]\n",
    "M_dataset_y_val = file['M_dataset_y_val'][:200]\n",
    "M_dataset_x_test = file['M_dataset_x_test'][:100]\n",
    "M_dataset_y_test = file['M_dataset_y_test'][:100]"
   ]
  },
  {
   "cell_type": "code",
   "execution_count": 12,
   "metadata": {
    "executionInfo": {
     "elapsed": 167708,
     "status": "ok",
     "timestamp": 1605964067012,
     "user": {
      "displayName": "SHUAIHENG XIAO",
      "photoUrl": "",
      "userId": "00050360622927862885"
     },
     "user_tz": -480
    },
    "id": "DuO67EE2Cuke"
   },
   "outputs": [],
   "source": [
    "D_dataset_x_train = file['D_dataset_x_train'][:]\n",
    "D_dataset_y_train = file['D_dataset_y_train'][:]\n",
    "D_dataset_x_val = file['D_dataset_x_val'][:]\n",
    "D_dataset_y_val = file['D_dataset_y_val'][:]\n",
    "D_dataset_x_test = file['D_dataset_x_test'][:]\n",
    "D_dataset_y_test = file['D_dataset_y_test'][:]"
   ]
  },
  {
   "cell_type": "code",
   "execution_count": 13,
   "metadata": {
    "executionInfo": {
     "elapsed": 1154,
     "status": "ok",
     "timestamp": 1605964068181,
     "user": {
      "displayName": "SHUAIHENG XIAO",
      "photoUrl": "",
      "userId": "00050360622927862885"
     },
     "user_tz": -480
    },
    "id": "rlvtMsw8Cukl"
   },
   "outputs": [],
   "source": [
    "for i in range(len(D_dataset_y_train)):\n",
    "    D_dataset_y_train[i] = 1\n",
    "for i in range(len(D_dataset_y_val)):\n",
    "    D_dataset_y_val[i] = 1\n",
    "for i in range(len(D_dataset_y_test)):\n",
    "    D_dataset_y_test[i] = 1\n",
    "\n",
    "for i in range(len(N_dataset_y_train)):\n",
    "    N_dataset_y_train[i] = 0\n",
    "for i in range(len(N_dataset_y_val)):\n",
    "    N_dataset_y_val[i] = 0\n",
    "for i in range(len(N_dataset_y_test)):\n",
    "    N_dataset_y_test[i] = 0\n",
    "for i in range(len(G_dataset_y_train)):\n",
    "    G_dataset_y_train[i] = 0\n",
    "for i in range(len(G_dataset_y_val)):\n",
    "    G_dataset_y_val[i] = 0\n",
    "for i in range(len(G_dataset_y_test)):\n",
    "    G_dataset_y_test[i] = 0\n",
    "for i in range(len(C_dataset_y_train)):\n",
    "    C_dataset_y_train[i] = 0\n",
    "for i in range(len(C_dataset_y_val)):\n",
    "    C_dataset_y_val[i] = 0\n",
    "for i in range(len(C_dataset_y_test)):\n",
    "    C_dataset_y_test[i] = 0\n",
    "for i in range(len(A_dataset_y_train)):\n",
    "    A_dataset_y_train[i] = 0\n",
    "for i in range(len(A_dataset_y_val)):\n",
    "    A_dataset_y_val[i] = 0\n",
    "for i in range(len(A_dataset_y_test)):\n",
    "    A_dataset_y_test[i] = 0\n",
    "for i in range(len(H_dataset_y_train)):\n",
    "    H_dataset_y_train[i] = 0\n",
    "for i in range(len(H_dataset_y_val)):\n",
    "    H_dataset_y_val[i] = 0\n",
    "for i in range(len(H_dataset_y_test)):\n",
    "    H_dataset_y_test[i] = 0\n",
    "\n",
    "for i in range(len(M_dataset_y_train)):\n",
    "    M_dataset_y_train[i] = 0\n",
    "for i in range(len(M_dataset_y_val)):\n",
    "    M_dataset_y_val[i] = 0\n",
    "for i in range(len(M_dataset_y_test)):\n",
    "    M_dataset_y_test[i] = 0"
   ]
  },
  {
   "cell_type": "code",
   "execution_count": 14,
   "metadata": {
    "executionInfo": {
     "elapsed": 1151,
     "status": "ok",
     "timestamp": 1605964068182,
     "user": {
      "displayName": "SHUAIHENG XIAO",
      "photoUrl": "",
      "userId": "00050360622927862885"
     },
     "user_tz": -480
    },
    "id": "HVm-DNiXCukn"
   },
   "outputs": [],
   "source": [
    "y_train = np.concatenate(( N_dataset_y_train,D_dataset_y_train,G_dataset_y_train,C_dataset_y_train,H_dataset_y_train,M_dataset_y_train,A_dataset_y_train))\n",
    "y_val = np.concatenate((N_dataset_y_val,D_dataset_y_val,G_dataset_y_val,C_dataset_y_val,H_dataset_y_val,M_dataset_y_val,A_dataset_y_val))\n",
    "y_test = np.concatenate((N_dataset_y_test,D_dataset_y_test,G_dataset_y_test,C_dataset_y_test,H_dataset_y_test,M_dataset_y_test,A_dataset_y_test))"
   ]
  },
  {
   "cell_type": "code",
   "execution_count": 15,
   "metadata": {
    "executionInfo": {
     "elapsed": 7495,
     "status": "ok",
     "timestamp": 1605964074529,
     "user": {
      "displayName": "SHUAIHENG XIAO",
      "photoUrl": "",
      "userId": "00050360622927862885"
     },
     "user_tz": -480
    },
    "id": "1_RkuPTiCukp"
   },
   "outputs": [],
   "source": [
    "x_train = np.concatenate(( N_dataset_x_train,D_dataset_x_train,G_dataset_x_train,C_dataset_x_train,H_dataset_x_train,M_dataset_x_train,A_dataset_x_train))\n",
    "x_val = np.concatenate((N_dataset_x_val,D_dataset_x_val,G_dataset_x_val,C_dataset_x_val,H_dataset_x_val,M_dataset_x_val,A_dataset_x_val))\n",
    "x_test = np.concatenate((N_dataset_x_test,D_dataset_x_test,G_dataset_x_test,C_dataset_x_test,H_dataset_x_test,M_dataset_x_test,A_dataset_x_test))"
   ]
  },
  {
   "cell_type": "code",
   "execution_count": 16,
   "metadata": {
    "executionInfo": {
     "elapsed": 7492,
     "status": "ok",
     "timestamp": 1605964074529,
     "user": {
      "displayName": "SHUAIHENG XIAO",
      "photoUrl": "",
      "userId": "00050360622927862885"
     },
     "user_tz": -480
    },
    "id": "G3R5f8isCuks"
   },
   "outputs": [],
   "source": [
    "del N_dataset_x_train\n",
    "del N_dataset_y_train\n",
    "del N_dataset_x_val\n",
    "del N_dataset_y_val\n",
    "del N_dataset_x_test\n",
    "del N_dataset_y_test\n",
    "del A_dataset_x_train\n",
    "del A_dataset_y_train\n",
    "del A_dataset_x_val\n",
    "del A_dataset_y_val\n",
    "del A_dataset_x_test\n",
    "del A_dataset_y_test\n",
    "del D_dataset_x_train\n",
    "del D_dataset_y_train\n",
    "del D_dataset_x_val\n",
    "del D_dataset_y_val\n",
    "del D_dataset_x_test\n",
    "del D_dataset_y_test\n",
    "del G_dataset_x_train\n",
    "del G_dataset_y_train\n",
    "del G_dataset_x_val\n",
    "del G_dataset_y_val\n",
    "del G_dataset_x_test\n",
    "del G_dataset_y_test\n",
    "del C_dataset_x_train\n",
    "del C_dataset_y_train\n",
    "del C_dataset_x_val\n",
    "del C_dataset_y_val\n",
    "del C_dataset_x_test\n",
    "del C_dataset_y_test\n",
    "del H_dataset_x_train\n",
    "del H_dataset_y_train\n",
    "del H_dataset_x_val\n",
    "del H_dataset_y_val\n",
    "del H_dataset_x_test\n",
    "del H_dataset_y_test\n",
    "del M_dataset_x_train\n",
    "del M_dataset_y_train\n",
    "del M_dataset_x_val\n",
    "del M_dataset_y_val\n",
    "del M_dataset_x_test\n",
    "del M_dataset_y_test"
   ]
  },
  {
   "cell_type": "code",
   "execution_count": 17,
   "metadata": {
    "executionInfo": {
     "elapsed": 11894,
     "status": "ok",
     "timestamp": 1605964078933,
     "user": {
      "displayName": "SHUAIHENG XIAO",
      "photoUrl": "",
      "userId": "00050360622927862885"
     },
     "user_tz": -480
    },
    "id": "CYvuY2Tp6d7_"
   },
   "outputs": [],
   "source": [
    "x_train = x_train.astype('float32')\n",
    "x_val = x_val.astype('float32')\n",
    "x_test = x_test.astype('float32')\n",
    "\n",
    "\n",
    "x_train/=255\n",
    "x_val/=255\n",
    "x_test /= 255"
   ]
  },
  {
   "cell_type": "code",
   "execution_count": 18,
   "metadata": {
    "colab": {
     "base_uri": "https://localhost:8080/"
    },
    "executionInfo": {
     "elapsed": 7881,
     "status": "ok",
     "timestamp": 1605964089988,
     "user": {
      "displayName": "SHUAIHENG XIAO",
      "photoUrl": "",
      "userId": "00050360622927862885"
     },
     "user_tz": -480
    },
    "id": "kmk7geR9Cuku",
    "outputId": "0082679a-ce79-4625-8bda-dd633e557c09"
   },
   "outputs": [
    {
     "name": "stdout",
     "output_type": "stream",
     "text": [
      "Downloading data from https://storage.googleapis.com/tensorflow/keras-applications/vgg19/vgg19_weights_tf_dim_ordering_tf_kernels_notop.h5\n",
      "80142336/80134624 [==============================] - 1s 0us/step\n"
     ]
    }
   ],
   "source": [
    "vgg = VGG19(weights = 'imagenet', include_top = False, input_shape = (224, 224, 3))"
   ]
  },
  {
   "cell_type": "code",
   "execution_count": 28,
   "metadata": {
    "executionInfo": {
     "elapsed": 1495,
     "status": "ok",
     "timestamp": 1605965009042,
     "user": {
      "displayName": "SHUAIHENG XIAO",
      "photoUrl": "",
      "userId": "00050360622927862885"
     },
     "user_tz": -480
    },
    "id": "x7MHbjfSCukx"
   },
   "outputs": [],
   "source": [
    "for layer in vgg.layers:\n",
    "    layer.trainable = False"
   ]
  },
  {
   "cell_type": "code",
   "execution_count": 29,
   "metadata": {
    "executionInfo": {
     "elapsed": 2238,
     "status": "ok",
     "timestamp": 1605965011815,
     "user": {
      "displayName": "SHUAIHENG XIAO",
      "photoUrl": "",
      "userId": "00050360622927862885"
     },
     "user_tz": -480
    },
    "id": "XQ6CoBpkCuk0"
   },
   "outputs": [],
   "source": [
    "model = Sequential()\n",
    "model.add(vgg)\n",
    "model.add(Flatten())\n",
    "model.add(Dense(1, activation = 'sigmoid'))"
   ]
  },
  {
   "cell_type": "code",
   "execution_count": 30,
   "metadata": {
    "executionInfo": {
     "elapsed": 1282,
     "status": "ok",
     "timestamp": 1605965013770,
     "user": {
      "displayName": "SHUAIHENG XIAO",
      "photoUrl": "",
      "userId": "00050360622927862885"
     },
     "user_tz": -480
    },
    "id": "-V6YL8sRCuk2"
   },
   "outputs": [],
   "source": [
    "model.compile(optimizer = 'adam', loss = 'binary_crossentropy', metrics = ['accuracy'])"
   ]
  },
  {
   "cell_type": "code",
   "execution_count": 31,
   "metadata": {
    "executionInfo": {
     "elapsed": 1241,
     "status": "ok",
     "timestamp": 1605965015554,
     "user": {
      "displayName": "SHUAIHENG XIAO",
      "photoUrl": "",
      "userId": "00050360622927862885"
     },
     "user_tz": -480
    },
    "id": "AU4b5X8ECuk4"
   },
   "outputs": [],
   "source": [
    "from tensorflow.keras.callbacks import ModelCheckpoint,EarlyStopping\n",
    "checkpoint = ModelCheckpoint(\"/content/drive/My Drive/weights_weights_ND.h5\",monitor=\"val_accuracy\",verbose=1,save_best_only=True,\n",
    "                             save_weights_only=True,)\n",
    "earlystop = EarlyStopping(monitor=\"val_accuracy\",patience=5,verbose=1)"
   ]
  },
  {
   "cell_type": "code",
   "execution_count": 32,
   "metadata": {
    "colab": {
     "base_uri": "https://localhost:8080/"
    },
    "executionInfo": {
     "elapsed": 967041,
     "status": "ok",
     "timestamp": 1605965983605,
     "user": {
      "displayName": "SHUAIHENG XIAO",
      "photoUrl": "",
      "userId": "00050360622927862885"
     },
     "user_tz": -480
    },
    "id": "LzLM4KlaCuk7",
    "outputId": "166656f0-24be-4928-ac3f-bc6150627210",
    "scrolled": true
   },
   "outputs": [
    {
     "name": "stdout",
     "output_type": "stream",
     "text": [
      "Epoch 1/50\n",
      "99/99 [==============================] - ETA: 0s - loss: 0.4091 - accuracy: 0.7904\n",
      "Epoch 00001: val_accuracy improved from -inf to 0.83198, saving model to /content/drive/My Drive/weights_weights_ND.h5\n",
      "99/99 [==============================] - 41s 418ms/step - loss: 0.4091 - accuracy: 0.7904 - val_loss: 0.3295 - val_accuracy: 0.8320\n",
      "Epoch 2/50\n",
      "99/99 [==============================] - ETA: 0s - loss: 0.3179 - accuracy: 0.8419\n",
      "Epoch 00002: val_accuracy improved from 0.83198 to 0.84589, saving model to /content/drive/My Drive/weights_weights_ND.h5\n",
      "99/99 [==============================] - 40s 400ms/step - loss: 0.3179 - accuracy: 0.8419 - val_loss: 0.3073 - val_accuracy: 0.8459\n",
      "Epoch 3/50\n",
      "99/99 [==============================] - ETA: 0s - loss: 0.2902 - accuracy: 0.8592\n",
      "Epoch 00003: val_accuracy improved from 0.84589 to 0.84820, saving model to /content/drive/My Drive/weights_weights_ND.h5\n",
      "99/99 [==============================] - 41s 414ms/step - loss: 0.2902 - accuracy: 0.8592 - val_loss: 0.3105 - val_accuracy: 0.8482\n",
      "Epoch 4/50\n",
      "99/99 [==============================] - ETA: 0s - loss: 0.2686 - accuracy: 0.8722\n",
      "Epoch 00004: val_accuracy improved from 0.84820 to 0.85632, saving model to /content/drive/My Drive/weights_weights_ND.h5\n",
      "99/99 [==============================] - 40s 406ms/step - loss: 0.2686 - accuracy: 0.8722 - val_loss: 0.2936 - val_accuracy: 0.8563\n",
      "Epoch 5/50\n",
      "99/99 [==============================] - ETA: 0s - loss: 0.2357 - accuracy: 0.8995\n",
      "Epoch 00005: val_accuracy did not improve from 0.85632\n",
      "99/99 [==============================] - 40s 400ms/step - loss: 0.2357 - accuracy: 0.8995 - val_loss: 0.3046 - val_accuracy: 0.8557\n",
      "Epoch 6/50\n",
      "99/99 [==============================] - ETA: 0s - loss: 0.2170 - accuracy: 0.9106\n",
      "Epoch 00006: val_accuracy improved from 0.85632 to 0.87833, saving model to /content/drive/My Drive/weights_weights_ND.h5\n",
      "99/99 [==============================] - 40s 409ms/step - loss: 0.2170 - accuracy: 0.9106 - val_loss: 0.2737 - val_accuracy: 0.8783\n",
      "Epoch 7/50\n",
      "99/99 [==============================] - ETA: 0s - loss: 0.2123 - accuracy: 0.9129\n",
      "Epoch 00007: val_accuracy did not improve from 0.87833\n",
      "99/99 [==============================] - 39s 398ms/step - loss: 0.2123 - accuracy: 0.9129 - val_loss: 0.2931 - val_accuracy: 0.8517\n",
      "Epoch 8/50\n",
      "99/99 [==============================] - ETA: 0s - loss: 0.2149 - accuracy: 0.9060\n",
      "Epoch 00008: val_accuracy did not improve from 0.87833\n",
      "99/99 [==============================] - 40s 399ms/step - loss: 0.2149 - accuracy: 0.9060 - val_loss: 0.3092 - val_accuracy: 0.8407\n",
      "Epoch 9/50\n",
      "99/99 [==============================] - ETA: 0s - loss: 0.1903 - accuracy: 0.9229\n",
      "Epoch 00009: val_accuracy did not improve from 0.87833\n",
      "99/99 [==============================] - 40s 400ms/step - loss: 0.1903 - accuracy: 0.9229 - val_loss: 0.2711 - val_accuracy: 0.8778\n",
      "Epoch 10/50\n",
      "99/99 [==============================] - ETA: 0s - loss: 0.1899 - accuracy: 0.9199\n",
      "Epoch 00010: val_accuracy improved from 0.87833 to 0.88297, saving model to /content/drive/My Drive/weights_weights_ND.h5\n",
      "99/99 [==============================] - 40s 407ms/step - loss: 0.1899 - accuracy: 0.9199 - val_loss: 0.2649 - val_accuracy: 0.8830\n",
      "Epoch 11/50\n",
      "99/99 [==============================] - ETA: 0s - loss: 0.1833 - accuracy: 0.9227\n",
      "Epoch 00011: val_accuracy did not improve from 0.88297\n",
      "99/99 [==============================] - 39s 399ms/step - loss: 0.1833 - accuracy: 0.9227 - val_loss: 0.2687 - val_accuracy: 0.8818\n",
      "Epoch 12/50\n",
      "99/99 [==============================] - ETA: 0s - loss: 0.1675 - accuracy: 0.9335\n",
      "Epoch 00012: val_accuracy did not improve from 0.88297\n",
      "99/99 [==============================] - 40s 400ms/step - loss: 0.1675 - accuracy: 0.9335 - val_loss: 0.3003 - val_accuracy: 0.8656\n",
      "Epoch 13/50\n",
      "99/99 [==============================] - ETA: 0s - loss: 0.1449 - accuracy: 0.9533\n",
      "Epoch 00013: val_accuracy did not improve from 0.88297\n",
      "99/99 [==============================] - 40s 400ms/step - loss: 0.1449 - accuracy: 0.9533 - val_loss: 0.2892 - val_accuracy: 0.8749\n",
      "Epoch 14/50\n",
      "99/99 [==============================] - ETA: 0s - loss: 0.1433 - accuracy: 0.9537\n",
      "Epoch 00014: val_accuracy improved from 0.88297 to 0.89224, saving model to /content/drive/My Drive/weights_weights_ND.h5\n",
      "99/99 [==============================] - 40s 408ms/step - loss: 0.1433 - accuracy: 0.9537 - val_loss: 0.2571 - val_accuracy: 0.8922\n",
      "Epoch 15/50\n",
      "99/99 [==============================] - ETA: 0s - loss: 0.1268 - accuracy: 0.9673\n",
      "Epoch 00015: val_accuracy did not improve from 0.89224\n",
      "99/99 [==============================] - 39s 398ms/step - loss: 0.1268 - accuracy: 0.9673 - val_loss: 0.2691 - val_accuracy: 0.8893\n",
      "Epoch 16/50\n",
      "99/99 [==============================] - ETA: 0s - loss: 0.1242 - accuracy: 0.9671\n",
      "Epoch 00016: val_accuracy improved from 0.89224 to 0.89513, saving model to /content/drive/My Drive/weights_weights_ND.h5\n",
      "99/99 [==============================] - 40s 409ms/step - loss: 0.1242 - accuracy: 0.9671 - val_loss: 0.2588 - val_accuracy: 0.8951\n",
      "Epoch 17/50\n",
      "99/99 [==============================] - ETA: 0s - loss: 0.1153 - accuracy: 0.9718\n",
      "Epoch 00017: val_accuracy did not improve from 0.89513\n",
      "99/99 [==============================] - 39s 398ms/step - loss: 0.1153 - accuracy: 0.9718 - val_loss: 0.2704 - val_accuracy: 0.8888\n",
      "Epoch 18/50\n",
      "99/99 [==============================] - ETA: 0s - loss: 0.1152 - accuracy: 0.9692\n",
      "Epoch 00018: val_accuracy improved from 0.89513 to 0.89629, saving model to /content/drive/My Drive/weights_weights_ND.h5\n",
      "99/99 [==============================] - 40s 407ms/step - loss: 0.1152 - accuracy: 0.9692 - val_loss: 0.2564 - val_accuracy: 0.8963\n",
      "Epoch 19/50\n",
      "99/99 [==============================] - ETA: 0s - loss: 0.1090 - accuracy: 0.9754\n",
      "Epoch 00019: val_accuracy improved from 0.89629 to 0.90382, saving model to /content/drive/My Drive/weights_weights_ND.h5\n",
      "99/99 [==============================] - 40s 408ms/step - loss: 0.1090 - accuracy: 0.9754 - val_loss: 0.2563 - val_accuracy: 0.9038\n",
      "Epoch 20/50\n",
      "99/99 [==============================] - ETA: 0s - loss: 0.1073 - accuracy: 0.9749\n",
      "Epoch 00020: val_accuracy did not improve from 0.90382\n",
      "99/99 [==============================] - 39s 399ms/step - loss: 0.1073 - accuracy: 0.9749 - val_loss: 0.2625 - val_accuracy: 0.8986\n",
      "Epoch 21/50\n",
      "99/99 [==============================] - ETA: 0s - loss: 0.0979 - accuracy: 0.9822\n",
      "Epoch 00021: val_accuracy did not improve from 0.90382\n",
      "99/99 [==============================] - 39s 399ms/step - loss: 0.0979 - accuracy: 0.9822 - val_loss: 0.2688 - val_accuracy: 0.8946\n",
      "Epoch 22/50\n",
      "99/99 [==============================] - ETA: 0s - loss: 0.1150 - accuracy: 0.9618\n",
      "Epoch 00022: val_accuracy did not improve from 0.90382\n",
      "99/99 [==============================] - 39s 397ms/step - loss: 0.1150 - accuracy: 0.9618 - val_loss: 0.3024 - val_accuracy: 0.8725\n",
      "Epoch 23/50\n",
      "99/99 [==============================] - ETA: 0s - loss: 0.0922 - accuracy: 0.9797\n",
      "Epoch 00023: val_accuracy did not improve from 0.90382\n",
      "99/99 [==============================] - 39s 398ms/step - loss: 0.0922 - accuracy: 0.9797 - val_loss: 0.2578 - val_accuracy: 0.9032\n",
      "Epoch 24/50\n",
      "99/99 [==============================] - ETA: 0s - loss: 0.0867 - accuracy: 0.9851\n",
      "Epoch 00024: val_accuracy did not improve from 0.90382\n",
      "99/99 [==============================] - 39s 398ms/step - loss: 0.0867 - accuracy: 0.9851 - val_loss: 0.2557 - val_accuracy: 0.8957\n",
      "Epoch 00024: early stopping\n"
     ]
    }
   ],
   "source": [
    "history = model.fit(x_train,y_train, batch_size = 64, epochs = 50,validation_data=(x_val,y_val),shuffle = True,verbose=1,callbacks=[checkpoint,earlystop])"
   ]
  },
  {
   "cell_type": "code",
   "execution_count": 33,
   "metadata": {
    "colab": {
     "base_uri": "https://localhost:8080/",
     "height": 408
    },
    "executionInfo": {
     "elapsed": 1541,
     "status": "ok",
     "timestamp": 1605965990495,
     "user": {
      "displayName": "SHUAIHENG XIAO",
      "photoUrl": "",
      "userId": "00050360622927862885"
     },
     "user_tz": -480
    },
    "id": "L3ZWhDWnCuk-",
    "outputId": "a9b2b452-0d9d-4068-e500-8c225949d554"
   },
   "outputs": [
    {
     "data": {
      "image/png": "[encoded data removed]",
      "text/plain": [
       "<Figure size 864x432 with 2 Axes>"
      ]
     },
     "metadata": {
      "tags": []
     },
     "output_type": "display_data"
    }
   ],
   "source": [
    "import matplotlib.pyplot as plt\n",
    "plt.style.use(\"ggplot\")\n",
    "fig = plt.figure(figsize=(12,6))\n",
    "epochs = range(1,len(history.history['accuracy'])+1)\n",
    "plt.subplot(1,2,1)\n",
    "plt.plot(epochs,history.history[\"accuracy\"],\"go-\")\n",
    "plt.plot(epochs,history.history[\"val_accuracy\"],\"ro-\")\n",
    "plt.title(\"Model Accuracy\")\n",
    "plt.xlabel(\"Epochs\")\n",
    "plt.ylabel(\"Accuracy\")\n",
    "plt.legend([\"Train\",\"val\"],loc = \"upper left\")\n",
    "\n",
    "plt.subplot(1,2,2)\n",
    "plt.plot(epochs,history.history[\"loss\"],\"go-\")\n",
    "plt.plot(epochs,history.history[\"val_loss\"],\"ro-\")\n",
    "plt.title(\"Model Loss\")\n",
    "plt.xlabel(\"Epochs\")\n",
    "plt.ylabel(\"Loss\")\n",
    "plt.legend([\"Train\",\"val\"],loc = \"upper left\")\n",
    "plt.show()"
   ]
  },
  {
   "cell_type": "code",
   "execution_count": 34,
   "metadata": {
    "executionInfo": {
     "elapsed": 3720,
     "status": "ok",
     "timestamp": 1605965996895,
     "user": {
      "displayName": "SHUAIHENG XIAO",
      "photoUrl": "",
      "userId": "00050360622927862885"
     },
     "user_tz": -480
    },
    "id": "VOI4Xi0LCulB"
   },
   "outputs": [],
   "source": [
    "model.load_weights('/content/drive/My Drive/weights_weights_ND.h5')"
   ]
  },
  {
   "cell_type": "code",
   "execution_count": null,
   "metadata": {
    "colab": {
     "base_uri": "https://localhost:8080/",
     "height": 375
    },
    "executionInfo": {
     "elapsed": 962,
     "status": "error",
     "timestamp": 1605966035845,
     "user": {
      "displayName": "SHUAIHENG XIAO",
      "photoUrl": "",
      "userId": "00050360622927862885"
     },
     "user_tz": -480
    },
    "id": "j99KzxRnIKVR",
    "outputId": "cded8216-a3fc-41a5-d8b9-b2412456c54f"
   },
   "outputs": [],
   "source": [
    "model.evaluate(x_test,y_test)"
   ]
  },
  {
   "cell_type": "code",
   "execution_count": 37,
   "metadata": {
    "colab": {
     "base_uri": "https://localhost:8080/"
    },
    "executionInfo": {
     "elapsed": 62708,
     "status": "ok",
     "timestamp": 1605966148054,
     "user": {
      "displayName": "SHUAIHENG XIAO",
      "photoUrl": "",
      "userId": "00050360622927862885"
     },
     "user_tz": -480
    },
    "id": "ynkBVivl68rl",
    "outputId": "c38d7cae-a50b-47de-a8f1-2d0b1a6b86e4"
   },
   "outputs": [
    {
     "name": "stdout",
     "output_type": "stream",
     "text": [
      "accuracy is 0.904286\n"
     ]
    }
   ],
   "source": [
    "N_dataset_x_test = file['N_dataset_x_test'][:]\n",
    "N_dataset_x_test = N_dataset_x_test[:100]\n",
    "D_dataset_x_test = file['D_dataset_x_test'][:]\n",
    "D_dataset_x_test = D_dataset_x_test[:100]\n",
    "G_dataset_x_test = file['G_dataset_x_test'][:]\n",
    "G_dataset_x_test = G_dataset_x_test[:100]\n",
    "C_dataset_x_test = file['C_dataset_x_test'][:]\n",
    "C_dataset_x_test = C_dataset_x_test[:100]\n",
    "A_dataset_x_test = file['A_dataset_x_test'][:]\n",
    "A_dataset_x_test = A_dataset_x_test[:100]\n",
    "H_dataset_x_test = file['H_dataset_x_test'][:]\n",
    "H_dataset_x_test = H_dataset_x_test[:100]\n",
    "M_dataset_x_test = file['M_dataset_x_test'][:]\n",
    "M_dataset_x_test = M_dataset_x_test[:100]\n",
    "x_test = np.concatenate((N_dataset_x_test,D_dataset_x_test,G_dataset_x_test,C_dataset_x_test,A_dataset_x_test,H_dataset_x_test,M_dataset_x_test))\n",
    "pred_res = []\n",
    "for image in x_test:\n",
    "    image = image.astype('float32')\n",
    "    image/=255\n",
    "    image = np.expand_dims(image, axis=0)\n",
    "    score = model.predict(image)\n",
    "    if score[0][0] > 0.5:\n",
    "      pred_res.append(1)\n",
    "    else:\n",
    "      pred_res.append(0)\n",
    "truth = [0]*(100) + [1] *100 + [0]*(100+100+100+100+100)\n",
    "counter = 0\n",
    "for a,b in zip(pred_res,truth):\n",
    "  if a == b:\n",
    "    counter += 1\n",
    "print('accuracy is %f' %(counter/len(truth)))"
   ]
  },
  {
   "cell_type": "code",
   "execution_count": null,
   "metadata": {
    "id": "cYUxvZex7nSL"
   },
   "outputs": [],
   "source": []
  }
 ],
 "metadata": {
  "accelerator": "GPU",
  "colab": {
   "collapsed_sections": [],
   "name": "VGG_ND.ipynb",
   "provenance": []
  },
  "kernelspec": {
   "display_name": "Python 3",
   "language": "python",
   "name": "python3"
  },
  "language_info": {
   "codemirror_mode": {
    "name": "ipython",
    "version": 3
   },
   "file_extension": ".py",
   "mimetype": "text/x-python",
   "name": "python",
   "nbconvert_exporter": "python",
   "pygments_lexer": "ipython3",
   "version": "3.6.2"
  }
 },
 "nbformat": 4,
 "nbformat_minor": 1
}
